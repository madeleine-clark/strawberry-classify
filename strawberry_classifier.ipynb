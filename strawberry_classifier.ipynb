{
 "cells": [
  {
   "cell_type": "code",
   "execution_count": 27,
   "id": "c092ded9-fda0-46a7-87b8-fd13f9a59916",
   "metadata": {},
   "outputs": [],
   "source": [
    "import torch\n",
    "import torch.nn as nn\n",
    "import torch.nn.functional as F\n",
    "import torch.optim as optim\n",
    "\n",
    "from torch.utils.data import DataLoader, random_split\n",
    "from torchvision import datasets, transforms\n",
    "\n",
    "import matplotlib.pyplot as plt\n",
    "import numpy as np"
   ]
  },
  {
   "cell_type": "code",
   "execution_count": 28,
   "id": "b23c8fdf-36ba-41e4-89f4-391c1ec7cd11",
   "metadata": {},
   "outputs": [
    {
     "name": "stdout",
     "output_type": "stream",
     "text": [
      "Training set class distribution: [207, 209]\n",
      "Validation set class distribution: [56, 49]\n"
     ]
    }
   ],
   "source": [
    "# Define transformations with data augmentation (helped a lot for improving accuracy!!!)\n",
    "transform = transforms.Compose([\n",
    "    transforms.RandomHorizontalFlip(), # Randomly flip images horizontally\n",
    "    transforms.RandomRotation(10),     # Randomly rotate images by up to 10 degrees\n",
    "    transforms.RandomResizedCrop(150, scale=(0.8, 1.0)), # Randomly crop and resize\n",
    "    transforms.ToTensor(),\n",
    "    transforms.Normalize(mean=[0.485, 0.456, 0.406], std=[0.229, 0.224, 0.225]),\n",
    "])\n",
    "\n",
    "# Load dataset with transformations\n",
    "dataset = datasets.ImageFolder(root='./strawberry_classify/dataset', transform=transform)\n",
    "\n",
    "# Split dataset into training and validation sets\n",
    "train_size = int(0.8 * len(dataset))\n",
    "val_size = len(dataset) - train_size\n",
    "train_dataset, val_dataset = random_split(dataset, [train_size, val_size])\n",
    "\n",
    "# Data loaders\n",
    "train_loader = DataLoader(train_dataset, batch_size=32, shuffle=True)\n",
    "val_loader = DataLoader(val_dataset, batch_size=32, shuffle=False)\n",
    "\n",
    "# Check the class distribution in the training and validation sets to ensure balance\n",
    "train_class_counts = get_class_distribution(train_loader)\n",
    "val_class_counts = get_class_distribution(val_loader)\n",
    "\n",
    "print(f'Training set class distribution: {train_class_counts}')\n",
    "print(f'Validation set class distribution: {val_class_counts}')\n",
    "\n",
    "def get_class_distribution(loader):\n",
    "    class_counts = [0, 0]  # Assuming two classes: 0 and 1\n",
    "    for _, labels in loader:\n",
    "        for label in labels:\n",
    "            class_counts[label] += 1\n",
    "    return class_counts"
   ]
  },
  {
   "cell_type": "code",
   "execution_count": 29,
   "id": "7461098d-940d-46eb-a4d6-5a2ca5631d16",
   "metadata": {},
   "outputs": [],
   "source": [
    "class StrawberryCNN(nn.Module):\n",
    "    def __init__(self):\n",
    "        super(StrawberryCNN, self).__init__()\n",
    "        self.conv1 = nn.Conv2d(3, 16, 3, padding=1)\n",
    "        self.conv2 = nn.Conv2d(16, 32, 3, padding=1)\n",
    "        self.conv3 = nn.Conv2d(32, 64, 3, padding=1)\n",
    "        self.pool = nn.MaxPool2d(2, 2)\n",
    "        self.fc1 = nn.Linear(64 * 18 * 18, 128)\n",
    "        self.dropout1 = nn.Dropout(0.5)\n",
    "        self.fc2 = nn.Linear(128, 64)\n",
    "        self.dropout2 = nn.Dropout(0.5)\n",
    "        self.fc3 = nn.Linear(64, 1)\n",
    "\n",
    "    def forward(self, x):\n",
    "        x = self.pool(F.relu(self.conv1(x)))\n",
    "        x = self.pool(F.relu(self.conv2(x)))\n",
    "        x = self.pool(F.relu(self.conv3(x)))\n",
    "        x = x.view(-1, 64 * 18 * 18)\n",
    "        x = F.relu(self.fc1(x))\n",
    "        x = self.dropout1(x)\n",
    "        x = F.relu(self.fc2(x))\n",
    "        x = self.dropout2(x)\n",
    "        x = torch.sigmoid(self.fc3(x))\n",
    "        return x\n",
    "\n",
    "model = StrawberryCNN()"
   ]
  },
  {
   "cell_type": "code",
   "execution_count": 21,
   "id": "92b6bb27-7351-466d-a126-726d7afd8cff",
   "metadata": {},
   "outputs": [],
   "source": [
    "criterion = nn.BCELoss()\n",
    "optimizer = optim.Adam(model.parameters(), lr=0.001)"
   ]
  },
  {
   "cell_type": "code",
   "execution_count": 22,
   "id": "063acd4d-b1e5-4540-ae76-8cde6646cd88",
   "metadata": {},
   "outputs": [
    {
     "name": "stdout",
     "output_type": "stream",
     "text": [
      "Epoch 1/20, Train Loss: 0.3384, Validation Loss: 0.0586\n",
      "Epoch 2/20, Train Loss: 0.1326, Validation Loss: 0.0441\n",
      "Epoch 3/20, Train Loss: 0.1400, Validation Loss: 0.0377\n",
      "Epoch 4/20, Train Loss: 0.0987, Validation Loss: 0.0160\n",
      "Epoch 5/20, Train Loss: 0.0735, Validation Loss: 0.0205\n",
      "Epoch 6/20, Train Loss: 0.0853, Validation Loss: 0.0173\n",
      "Epoch 7/20, Train Loss: 0.0879, Validation Loss: 0.0273\n",
      "Epoch 8/20, Train Loss: 0.0639, Validation Loss: 0.0137\n",
      "Epoch 9/20, Train Loss: 0.0760, Validation Loss: 0.0161\n",
      "Epoch 10/20, Train Loss: 0.0624, Validation Loss: 0.0161\n",
      "Epoch 11/20, Train Loss: 0.0572, Validation Loss: 0.0166\n",
      "Epoch 12/20, Train Loss: 0.0545, Validation Loss: 0.0105\n",
      "Epoch 13/20, Train Loss: 0.0576, Validation Loss: 0.0134\n",
      "Epoch 14/20, Train Loss: 0.0541, Validation Loss: 0.0250\n",
      "Epoch 15/20, Train Loss: 0.0560, Validation Loss: 0.0159\n",
      "Epoch 16/20, Train Loss: 0.0455, Validation Loss: 0.0101\n",
      "Epoch 17/20, Train Loss: 0.0436, Validation Loss: 0.0149\n",
      "Epoch 18/20, Train Loss: 0.0455, Validation Loss: 0.0113\n",
      "Epoch 19/20, Train Loss: 0.0491, Validation Loss: 0.0061\n",
      "Epoch 20/20, Train Loss: 0.0456, Validation Loss: 0.0130\n"
     ]
    }
   ],
   "source": [
    "num_epochs = 20\n",
    "train_losses, val_losses = [], []\n",
    "\n",
    "for epoch in range(num_epochs):\n",
    "    model.train()\n",
    "    running_loss = 0.0\n",
    "    for inputs, labels in train_loader:\n",
    "        labels = labels.float().view(-1, 1)\n",
    "        optimizer.zero_grad()\n",
    "        outputs = model(inputs)\n",
    "        loss = criterion(outputs, labels)\n",
    "        loss.backward()\n",
    "        optimizer.step()\n",
    "        running_loss += loss.item()\n",
    "    \n",
    "    train_loss = running_loss / len(train_loader)\n",
    "    train_losses.append(train_loss)\n",
    "    \n",
    "    model.eval()\n",
    "    running_val_loss = 0.0\n",
    "    with torch.no_grad():\n",
    "        for inputs, labels in val_loader:\n",
    "            labels = labels.float().view(-1, 1)\n",
    "            outputs = model(inputs)\n",
    "            loss = criterion(outputs, labels)\n",
    "            running_val_loss += loss.item()\n",
    "    \n",
    "    val_loss = running_val_loss / len(val_loader)\n",
    "    val_losses.append(val_loss)\n",
    "    \n",
    "    print(f'Epoch {epoch+1}/{num_epochs}, Train Loss: {train_loss:.4f}, Validation Loss: {val_loss:.4f}')"
   ]
  },
  {
   "cell_type": "code",
   "execution_count": 23,
   "id": "4dc043db-771a-436d-9731-a0946560dbc7",
   "metadata": {},
   "outputs": [
    {
     "data": {
      "image/png": "[encoded data removed]",
      "text/plain": [
       "<Figure size 1000x500 with 1 Axes>"
      ]
     },
     "metadata": {},
     "output_type": "display_data"
    }
   ],
   "source": [
    "# Plot training & validation loss\n",
    "plt.figure(figsize=(10, 5))\n",
    "plt.plot(train_losses, label='Train Loss')\n",
    "plt.plot(val_losses, label='Validation Loss')\n",
    "plt.legend()\n",
    "plt.show()"
   ]
  },
  {
   "cell_type": "code",
   "execution_count": 24,
   "id": "21528871-ca90-489d-a0c4-55f3fc6ed69d",
   "metadata": {},
   "outputs": [],
   "source": [
    "torch.save(model.state_dict(), 'strawberry_classifier.pth')"
   ]
  },
  {
   "cell_type": "code",
   "execution_count": 26,
   "id": "05f80c58-aa4c-44fa-a287-3059224515da",
   "metadata": {},
   "outputs": [
    {
     "name": "stdout",
     "output_type": "stream",
     "text": [
      "Ripe\n",
      "Unripe\n"
     ]
    }
   ],
   "source": [
    "from PIL import Image\n",
    "\n",
    "model = StrawberryCNN()\n",
    "model.load_state_dict(torch.load('strawberry_classifier.pth'))\n",
    "model.eval()\n",
    "\n",
    "# Function to predict the ripeness of a strawberry\n",
    "def predict_image(image_path, model):\n",
    "    image = Image.open(image_path)\n",
    "    transform = transforms.Compose([\n",
    "        transforms.Resize((150, 150)),\n",
    "        transforms.ToTensor(),\n",
    "        transforms.Normalize(mean=[0.485, 0.456, 0.406], std=[0.229, 0.224, 0.225]),\n",
    "    ])\n",
    "    image = transform(image).unsqueeze(0)\n",
    "    \n",
    "    with torch.no_grad():\n",
    "        output = model(image)\n",
    "        prediction = torch.round(output).item()\n",
    "    \n",
    "    if prediction == 0:\n",
    "        return \"Ripe\"\n",
    "    else:\n",
    "        return \"Unripe\"\n",
    "\n",
    "# Test the function (random strawberry images from google)\n",
    "print(predict_image('./strawberry_classify/ripe-example-strawberry.jpg', model))\n",
    "print(predict_image('./strawberry_classify/unripe-example-easy.jpg', model))"
   ]
  }
 ],
 "metadata": {
  "kernelspec": {
   "display_name": "Python 3 (ipykernel)",
   "language": "python",
   "name": "python3"
  },
  "language_info": {
   "codemirror_mode": {
    "name": "ipython",
    "version": 3
   },
   "file_extension": ".py",
   "mimetype": "text/x-python",
   "name": "python",
   "nbconvert_exporter": "python",
   "pygments_lexer": "ipython3",
   "version": "3.12.3"
  }
 },
 "nbformat": 4,
 "nbformat_minor": 5
}
